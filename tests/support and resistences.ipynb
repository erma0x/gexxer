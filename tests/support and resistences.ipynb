{
 "cells": [
  {
   "cell_type": "code",
   "execution_count": 1,
   "metadata": {},
   "outputs": [
    {
     "name": "stdout",
     "output_type": "stream",
     "text": [
      "Livelli potenziali di resistenza:\n",
      "0    145.0\n",
      "1    205.0\n",
      "2    285.0\n",
      "3    254.0\n",
      "4    187.0\n",
      "Name: Resistenze, dtype: float64\n",
      "\n",
      "Livelli potenziali di supporto:\n",
      "0    63.0\n",
      "1    28.0\n",
      "2   -15.0\n",
      "3    12.0\n",
      "4    70.0\n",
      "Name: Supporti, dtype: float64\n"
     ]
    }
   ],
   "source": [
    "import pandas as pd\n",
    "\n",
    "# Esempio dati fittizi\n",
    "strike_price = [95, 100, 105, 110, 115]  \n",
    "open_interest_call = [100, 150, 200, 180, 120]\n",
    "open_interest_put = [80, 120, 150, 140, 90]\n",
    "gamma_call = [0.5, 0.7, 0.9, 0.8, 0.6]\n",
    "gamma_put = [0.4, 0.6, 0.8, 0.7, 0.5]\n",
    "prezzi_sottostante = [100.5, 100.2, 99.8, 100.4, 100.7]\n",
    "vix_storico = [15.3, 15.6, 15.1, 15.4, 15.2]  \n",
    "\n",
    "# Calcolo dei livelli di resistenza e supporto\n",
    "resistenze = []\n",
    "supporti = []\n",
    "\n",
    "for i in range(len(strike_price)):\n",
    "    resistenza = strike_price[i] + (open_interest_call[i] * gamma_call[i])\n",
    "    supporto = strike_price[i] - (open_interest_put[i] * gamma_put[i])\n",
    "    resistenze.append(resistenza)\n",
    "    supporti.append(supporto)\n",
    "\n",
    "# Creazione di un DataFrame per i dati\n",
    "data = pd.DataFrame({\n",
    "    'Strike Price': strike_price,\n",
    "    'Open Interest Call': open_interest_call,\n",
    "    'Open Interest Put': open_interest_put,\n",
    "    'Gamma Call': gamma_call,\n",
    "    'Gamma Put': gamma_put,\n",
    "    'Resistenze': resistenze,\n",
    "    'Supporti': supporti,\n",
    "    'Prezzo Sottostante': prezzi_sottostante,\n",
    "    'VIX Storico': vix_storico\n",
    "})\n",
    "\n",
    "# Rilevamento delle potenziali resistenze e supporti\n",
    "potenziali_resistenze = data[data['Resistenze'] >= data['Prezzo Sottostante']]\n",
    "potenziali_supporti = data[data['Supporti'] <= data['Prezzo Sottostante']]\n",
    "\n",
    "# Stampa dei livelli potenziali di resistenza e supporto\n",
    "print(\"Livelli potenziali di resistenza:\")\n",
    "print(potenziali_resistenze['Resistenze'])\n",
    "print(\"\\nLivelli potenziali di supporto:\")\n",
    "print(potenziali_supporti['Supporti'])\n"
   ]
  }
 ],
 "metadata": {
  "kernelspec": {
   "display_name": "Python 3",
   "language": "python",
   "name": "python3"
  },
  "language_info": {
   "codemirror_mode": {
    "name": "ipython",
    "version": 3
   },
   "file_extension": ".py",
   "mimetype": "text/x-python",
   "name": "python",
   "nbconvert_exporter": "python",
   "pygments_lexer": "ipython3",
   "version": "3.10.6"
  },
  "orig_nbformat": 4
 },
 "nbformat": 4,
 "nbformat_minor": 2
}
