{
 "cells": [
  {
   "cell_type": "code",
   "execution_count": 1,
   "metadata": {},
   "outputs": [],
   "source": [
    "import pandas as pd\n",
    "import yfinance as yf\n",
    "\n",
    "strike_price = [95, 100, 105, 110, 115]  \n",
    "open_interest_call = [100, 150, 200, 180, 120]\n",
    "open_interest_put = [80, 120, 150, 140, 90]\n",
    "gamma_call = [0.5, 0.7, 0.9, 0.8, 0.6]\n",
    "gamma_put = [0.4, 0.6, 0.8, 0.7, 0.5]\n",
    "prezzi_sottostante = [100.5, 100.2, 99.8, 100.4, 100.7]\n",
    "vix_storico = [15.3, 15.6, 15.1, 15.4, 15.2]  \n",
    "\n",
    "def download_vix():\n",
    "    vix_data = yf.download(\"^VIX\", period='60d')# start=start_date, end=end_date)\n",
    "    return vix_data['Adj Close']\n",
    "\n",
    "\n",
    "# Calcolo dell'indicatore di trading\n",
    "indicatore = []\n",
    "for i in range(len(strike_price)):\n",
    "    indicatore.append((open_interest_call[i] * gamma_call[i]) / strike_price[i] - (open_interest_put[i] * gamma_put[i]) / strike_price[i])\n",
    "\n",
    "# Creazione di un DataFrame per i dati\n",
    "data = pd.DataFrame({\n",
    "    'Strike Price': strike_price,\n",
    "    'Open Interest Call': open_interest_call,\n",
    "    'Open Interest Put': open_interest_put,\n",
    "    'Gamma Call': gamma_call,\n",
    "    'Gamma Put': gamma_put,\n",
    "    'Indicatore': indicatore,\n",
    "    'Prezzo Sottostante': prezzi_sottostante,\n",
    "    'VIX Storico': vix_storico\n",
    "})\n",
    "\n",
    "# Calcolo delle statistiche dell'indicatore\n",
    "media_indicatore = data['Indicatore'].mean()\n",
    "deviazione_standard_indicatore = data['Indicatore'].std()\n",
    "\n",
    "# Esecuzione della strategia di trading\n",
    "for i in range(1, len(data)):\n",
    "    if data['Indicatore'].iloc[i] > media_indicatore + deviazione_standard_indicatore and data['VIX Storico'].iloc[i] > data['VIX Storico'].iloc[i-1]:\n",
    "        # Esegui un'operazione di acquisto\n",
    "        strike = data['Strike Price'].iloc[i]\n",
    "        prezzo_sottostante = data['Prezzo Sottostante'].iloc[i]\n",
    "        print(f\"Acquisto opzione call con strike {strike} al prezzo del sottostante {prezzo_sottostante}\")\n",
    "        # Aggiungi qui la logica per l'esecuzione dell'operazione di acquisto\n",
    "    elif data['Indicatore'].iloc[i] < media_indicatore - deviazione_standard_indicatore and data['VIX Storico'].iloc[i] < data['VIX Storico'].iloc[i-1]:\n",
    "        # Esegui un'operazione di vendita\n",
    "        strike = data['Strike Price'].iloc[i]\n",
    "        prezzo_sottostante = data['Prezzo Sottostante'].iloc[i]\n",
    "        print(f\"Vendita opzione call con strike {strike} al prezzo del sottostante {prezzo_sottostante}\")\n",
    "        # Aggiungi qui la logica per l'esecuzione dell'operazione di vendita\n"
   ]
  },
  {
   "cell_type": "code",
   "execution_count": null,
   "metadata": {},
   "outputs": [],
   "source": []
  }
 ],
 "metadata": {
  "kernelspec": {
   "display_name": "Python 3",
   "language": "python",
   "name": "python3"
  },
  "language_info": {
   "codemirror_mode": {
    "name": "ipython",
    "version": 3
   },
   "file_extension": ".py",
   "mimetype": "text/x-python",
   "name": "python",
   "nbconvert_exporter": "python",
   "pygments_lexer": "ipython3",
   "version": "3.10.6"
  },
  "orig_nbformat": 4
 },
 "nbformat": 4,
 "nbformat_minor": 2
}
