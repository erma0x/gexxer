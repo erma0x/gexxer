{
 "cells": [
  {
   "cell_type": "code",
   "execution_count": 10,
   "metadata": {},
   "outputs": [
    {
     "name": "stdout",
     "output_type": "stream",
     "text": [
      "   Strike  Open Interest Call  Open Interest Put  Gamma Call  Gamma Put  \\\n",
      "0      95                 100                 80         0.5        0.4   \n",
      "1     100                 150                120         0.7        0.6   \n",
      "2     105                 200                150         0.9        0.8   \n",
      "3     110                 180                140         0.8        0.7   \n",
      "4     115                 120                 90         0.6        0.5   \n",
      "\n",
      "   Indicatore  \n",
      "0        18.0  \n",
      "1        33.0  \n",
      "2        60.0  \n",
      "3        46.0  \n",
      "4        27.0  \n",
      "Acquisto opzione call con strike 105\n"
     ]
    }
   ],
   "source": [
    "import pandas as pd\n",
    "\n",
    "# I dati dell'open interest delle opzioni call e put e il corrispettivo gamma\n",
    "strike_price = [95, 100, 105, 110, 115]  # Esempio dati fittizi\n",
    "open_interest_call = [100, 150, 200, 180, 120]  # Esempio dati fittizi\n",
    "open_interest_put = [80, 120, 150, 140, 90]  # Esempio dati fittizi\n",
    "gamma_call = [0.5, 0.7, 0.9, 0.8, 0.6]  # Esempio dati fittizi\n",
    "gamma_put = [0.4, 0.6, 0.8, 0.7, 0.5]  # Esempio dati fittizi\n",
    "\n",
    "# Prezzo del sottostante\n",
    "prezzo_sottostante = 100.0  # Esempio dati fittizi\n",
    "\n",
    "# Calcolo dell'indicatore di trading\n",
    "indicatore = []\n",
    "for i in range(len(open_interest_call)):\n",
    "    indicatore.append(open_interest_call[i] * gamma_call[i] - open_interest_put[i] * gamma_put[i])\n",
    "\n",
    "# Creazione di un DataFrame per i dati\n",
    "data = pd.DataFrame({\n",
    "    'Strike' : strike_price,\n",
    "    'Open Interest Call': open_interest_call,\n",
    "    'Open Interest Put': open_interest_put,\n",
    "    'Gamma Call': gamma_call,\n",
    "    'Gamma Put': gamma_put,\n",
    "    'Indicatore': indicatore\n",
    "})\n",
    "\n",
    "# Calcolo delle statistiche dell'indicatore\n",
    "media_indicatore = data['Indicatore'].mean()\n",
    "deviazione_standard_indicatore = data['Indicatore'].std()\n",
    "\n",
    "print(data)\n",
    "\n",
    "\n",
    "# Esecuzione della strategia di trading\n",
    "for i in range(1, len(data)):\n",
    "    if data['Indicatore'].iloc[i] > media_indicatore + deviazione_standard_indicatore:\n",
    "        # Esegui un'operazione di acquisto\n",
    "        strike = data['Strike'].iloc[i]\n",
    "        print(f\"Acquisto opzione call con strike {strike}\")\n",
    "        # Aggiungi qui la logica per l'esecuzione dell'operazione di acquisto\n",
    "    elif data['Indicatore'].iloc[i] < media_indicatore - deviazione_standard_indicatore:\n",
    "        # Esegui un'operazione di vendita\n",
    "        strike = data['Strike'].iloc[i]\n",
    "        print(f\"Vendita opzione call con strike {strike}\")\n",
    "        # Aggiungi qui la logica per l'esecuzione dell'operazione di vendita\n"
   ]
  },
  {
   "cell_type": "code",
   "execution_count": 1,
   "metadata": {},
   "outputs": [
    {
     "name": "stdout",
     "output_type": "stream",
     "text": [
      "[*********************100%***********************]  1 of 1 completed\n",
      "                 Open       High        Low  Close  Adj Close    Volume\n",
      "Date                                                                   \n",
      "2005-12-06   2.540000   2.580000   2.340000   2.40       2.40  48228300\n",
      "2005-12-07   2.420000   2.480000   2.140000   2.18       2.18   4774300\n",
      "2005-12-08   2.200000   2.380000   2.180000   2.32       2.32   3105200\n",
      "2005-12-09   2.350000   2.400000   2.300000   2.34       2.34    662900\n",
      "2005-12-13   2.320000   2.340000   2.300000   2.32       2.32    109000\n",
      "...               ...        ...        ...    ...        ...       ...\n",
      "2015-03-26   4.400000   4.760000   4.120000   4.24       4.24  26160500\n",
      "2016-01-27  12.030000  12.030000  12.030000  12.03      12.03       100\n",
      "2016-09-28  17.480000  17.480000  17.480000  17.48      17.48         0\n",
      "2016-10-26  17.760000  17.760000  17.760000  17.76      17.76         0\n",
      "2018-02-22  34.049999  34.169998  33.240002  33.75      33.75     94476\n",
      "\n",
      "[2266 rows x 6 columns]\n"
     ]
    }
   ],
   "source": [
    "import yfinance as yf\n",
    "\n",
    "ticker_symbol = \"GC\"\n",
    "data = yf.download(ticker_symbol)\n",
    "print(data)"
   ]
  },
  {
   "cell_type": "code",
   "execution_count": 4,
   "metadata": {},
   "outputs": [
    {
     "ename": "ValueError",
     "evalue": "Expiration `2023-06-16` cannot be found. Available expiration are: []",
     "output_type": "error",
     "traceback": [
      "\u001b[0;31m---------------------------------------------------------------------------\u001b[0m",
      "\u001b[0;31mValueError\u001b[0m                                Traceback (most recent call last)",
      "Cell \u001b[0;32mIn[4], line 9\u001b[0m\n\u001b[1;32m      7\u001b[0m option_chain \u001b[39m=\u001b[39m ticker\u001b[39m.\u001b[39moptions\n\u001b[1;32m      8\u001b[0m expiration_chain \u001b[39m=\u001b[39m [date \u001b[39mfor\u001b[39;00m date \u001b[39min\u001b[39;00m option_chain \u001b[39mif\u001b[39;00m expiration_date \u001b[39min\u001b[39;00m date]\n\u001b[0;32m----> 9\u001b[0m data \u001b[39m=\u001b[39m ticker\u001b[39m.\u001b[39;49moption_chain(expiration_date)\n\u001b[1;32m     11\u001b[0m \u001b[39mprint\u001b[39m(\u001b[39mlen\u001b[39m(data))\n\u001b[1;32m     12\u001b[0m \u001b[39mprint\u001b[39m(data\u001b[39m.\u001b[39mcalls)\n",
      "File \u001b[0;32m~/.local/lib/python3.10/site-packages/yfinance/ticker.py:86\u001b[0m, in \u001b[0;36mTicker.option_chain\u001b[0;34m(self, date, proxy, tz)\u001b[0m\n\u001b[1;32m     84\u001b[0m     \u001b[39mself\u001b[39m\u001b[39m.\u001b[39m_download_options()\n\u001b[1;32m     85\u001b[0m \u001b[39mif\u001b[39;00m date \u001b[39mnot\u001b[39;00m \u001b[39min\u001b[39;00m \u001b[39mself\u001b[39m\u001b[39m.\u001b[39m_expirations:\n\u001b[0;32m---> 86\u001b[0m     \u001b[39mraise\u001b[39;00m \u001b[39mValueError\u001b[39;00m(\n\u001b[1;32m     87\u001b[0m         \u001b[39m\"\u001b[39m\u001b[39mExpiration `\u001b[39m\u001b[39m%s\u001b[39;00m\u001b[39m` cannot be found. \u001b[39m\u001b[39m\"\u001b[39m\n\u001b[1;32m     88\u001b[0m         \u001b[39m\"\u001b[39m\u001b[39mAvailable expiration are: [\u001b[39m\u001b[39m%s\u001b[39;00m\u001b[39m]\u001b[39m\u001b[39m\"\u001b[39m \u001b[39m%\u001b[39m (\n\u001b[1;32m     89\u001b[0m             date, \u001b[39m'\u001b[39m\u001b[39m, \u001b[39m\u001b[39m'\u001b[39m\u001b[39m.\u001b[39mjoin(\u001b[39mself\u001b[39m\u001b[39m.\u001b[39m_expirations)))\n\u001b[1;32m     90\u001b[0m date \u001b[39m=\u001b[39m \u001b[39mself\u001b[39m\u001b[39m.\u001b[39m_expirations[date]\n\u001b[1;32m     91\u001b[0m options \u001b[39m=\u001b[39m \u001b[39mself\u001b[39m\u001b[39m.\u001b[39m_download_options(date, proxy\u001b[39m=\u001b[39mproxy)\n",
      "\u001b[0;31mValueError\u001b[0m: Expiration `2023-06-16` cannot be found. Available expiration are: []"
     ]
    }
   ],
   "source": [
    "import yfinance as yf\n",
    "\n",
    "ticker_symbol = \"GC\"\n",
    "expiration_date = \"2023-06-16\"\n",
    "\n",
    "ticker = yf.Ticker(ticker_symbol)\n",
    "option_chain = ticker.options\n",
    "expiration_chain = [date for date in option_chain if expiration_date in date]\n",
    "data = ticker.option_chain(expiration_date)\n",
    "\n",
    "print(len(data))\n",
    "print(data.calls)\n",
    "print(data.puts)"
   ]
  },
  {
   "cell_type": "code",
   "execution_count": 29,
   "metadata": {},
   "outputs": [
    {
     "name": "stdout",
     "output_type": "stream",
     "text": [
      "('2023-06-02', '2023-06-09', '2023-06-16', '2023-06-23', '2023-06-30', '2023-07-07', '2023-07-21', '2023-08-18', '2023-10-20', '2023-11-17', '2024-01-19', '2024-06-21', '2025-01-17')\n"
     ]
    }
   ],
   "source": [
    "import yfinance as yf\n",
    "\n",
    "def get_expirations_dates(symbol = \"AAPL\"):\n",
    "\n",
    "    ticker = yf.Ticker(symbol)\n",
    "    expiration_dates = ticker.options\n",
    "    if expiration_dates:     \n",
    "        return expiration_dates\n",
    "    else:\n",
    "        print('No expiration dates data founded')\n",
    "        return None\n",
    "\n",
    "\n",
    "expiration_dates = get_expirations_dates(symbol='ZM')\n",
    "print(expiration_dates)"
   ]
  },
  {
   "cell_type": "code",
   "execution_count": 30,
   "metadata": {},
   "outputs": [
    {
     "name": "stdout",
     "output_type": "stream",
     "text": [
      "Gold\n"
     ]
    }
   ],
   "source": [
    "import yfinance as yf\n",
    "\n",
    "ticker_symbol = \"GC\"\n",
    "\n",
    "ticker = yf.Ticker(ticker_symbol)\n",
    "ticker_info = ticker.info\n",
    "real_name = ticker_info[\"longName\"]\n",
    "\n",
    "print(real_name)"
   ]
  },
  {
   "cell_type": "code",
   "execution_count": null,
   "metadata": {},
   "outputs": [],
   "source": []
  },
  {
   "cell_type": "code",
   "execution_count": 31,
   "metadata": {},
   "outputs": [
    {
     "ename": "AttributeError",
     "evalue": "'function' object has no attribute 'fetch'",
     "output_type": "error",
     "traceback": [
      "\u001b[0;31m---------------------------------------------------------------------------\u001b[0m",
      "\u001b[0;31mAttributeError\u001b[0m                            Traceback (most recent call last)",
      "Cell \u001b[0;32mIn[31], line 7\u001b[0m\n\u001b[1;32m      5\u001b[0m ticker \u001b[39m=\u001b[39m yf\u001b[39m.\u001b[39mTicker(ticker_symbol)\n\u001b[1;32m      6\u001b[0m option_chain \u001b[39m=\u001b[39m ticker\u001b[39m.\u001b[39moption_chain\n\u001b[0;32m----> 7\u001b[0m data \u001b[39m=\u001b[39m option_chain\u001b[39m.\u001b[39;49mfetch()\n\u001b[1;32m      9\u001b[0m \u001b[39mprint\u001b[39m(data\u001b[39m.\u001b[39mcalls)\n\u001b[1;32m     10\u001b[0m \u001b[39mprint\u001b[39m(data\u001b[39m.\u001b[39mputs)\n",
      "\u001b[0;31mAttributeError\u001b[0m: 'function' object has no attribute 'fetch'"
     ]
    }
   ],
   "source": [
    "import yfinance as yf\n",
    "\n",
    "ticker_symbol = \"ZS\"\n",
    "\n",
    "ticker = yf.Ticker(ticker_symbol)\n",
    "option_chain = ticker.option_chain\n",
    "data = option_chain.fetch()\n",
    "\n",
    "print(data.calls)\n",
    "print(data.puts)\n"
   ]
  },
  {
   "cell_type": "code",
   "execution_count": null,
   "metadata": {},
   "outputs": [],
   "source": []
  },
  {
   "cell_type": "code",
   "execution_count": 33,
   "metadata": {},
   "outputs": [
    {
     "ename": "JSONDecodeError",
     "evalue": "Expecting value: line 1 column 1 (char 0)",
     "output_type": "error",
     "traceback": [
      "\u001b[0;31m---------------------------------------------------------------------------\u001b[0m",
      "\u001b[0;31mJSONDecodeError\u001b[0m                           Traceback (most recent call last)",
      "File \u001b[0;32m~/.local/lib/python3.10/site-packages/requests/models.py:971\u001b[0m, in \u001b[0;36mResponse.json\u001b[0;34m(self, **kwargs)\u001b[0m\n\u001b[1;32m    970\u001b[0m \u001b[39mtry\u001b[39;00m:\n\u001b[0;32m--> 971\u001b[0m     \u001b[39mreturn\u001b[39;00m complexjson\u001b[39m.\u001b[39;49mloads(\u001b[39mself\u001b[39;49m\u001b[39m.\u001b[39;49mtext, \u001b[39m*\u001b[39;49m\u001b[39m*\u001b[39;49mkwargs)\n\u001b[1;32m    972\u001b[0m \u001b[39mexcept\u001b[39;00m JSONDecodeError \u001b[39mas\u001b[39;00m e:\n\u001b[1;32m    973\u001b[0m     \u001b[39m# Catch JSON-related errors and raise as requests.JSONDecodeError\u001b[39;00m\n\u001b[1;32m    974\u001b[0m     \u001b[39m# This aliases json.JSONDecodeError and simplejson.JSONDecodeError\u001b[39;00m\n",
      "File \u001b[0;32m/usr/lib/python3.10/json/__init__.py:346\u001b[0m, in \u001b[0;36mloads\u001b[0;34m(s, cls, object_hook, parse_float, parse_int, parse_constant, object_pairs_hook, **kw)\u001b[0m\n\u001b[1;32m    343\u001b[0m \u001b[39mif\u001b[39;00m (\u001b[39mcls\u001b[39m \u001b[39mis\u001b[39;00m \u001b[39mNone\u001b[39;00m \u001b[39mand\u001b[39;00m object_hook \u001b[39mis\u001b[39;00m \u001b[39mNone\u001b[39;00m \u001b[39mand\u001b[39;00m\n\u001b[1;32m    344\u001b[0m         parse_int \u001b[39mis\u001b[39;00m \u001b[39mNone\u001b[39;00m \u001b[39mand\u001b[39;00m parse_float \u001b[39mis\u001b[39;00m \u001b[39mNone\u001b[39;00m \u001b[39mand\u001b[39;00m\n\u001b[1;32m    345\u001b[0m         parse_constant \u001b[39mis\u001b[39;00m \u001b[39mNone\u001b[39;00m \u001b[39mand\u001b[39;00m object_pairs_hook \u001b[39mis\u001b[39;00m \u001b[39mNone\u001b[39;00m \u001b[39mand\u001b[39;00m \u001b[39mnot\u001b[39;00m kw):\n\u001b[0;32m--> 346\u001b[0m     \u001b[39mreturn\u001b[39;00m _default_decoder\u001b[39m.\u001b[39;49mdecode(s)\n\u001b[1;32m    347\u001b[0m \u001b[39mif\u001b[39;00m \u001b[39mcls\u001b[39m \u001b[39mis\u001b[39;00m \u001b[39mNone\u001b[39;00m:\n",
      "File \u001b[0;32m/usr/lib/python3.10/json/decoder.py:337\u001b[0m, in \u001b[0;36mJSONDecoder.decode\u001b[0;34m(self, s, _w)\u001b[0m\n\u001b[1;32m    333\u001b[0m \u001b[39m\u001b[39m\u001b[39m\"\"\"Return the Python representation of ``s`` (a ``str`` instance\u001b[39;00m\n\u001b[1;32m    334\u001b[0m \u001b[39mcontaining a JSON document).\u001b[39;00m\n\u001b[1;32m    335\u001b[0m \n\u001b[1;32m    336\u001b[0m \u001b[39m\"\"\"\u001b[39;00m\n\u001b[0;32m--> 337\u001b[0m obj, end \u001b[39m=\u001b[39m \u001b[39mself\u001b[39;49m\u001b[39m.\u001b[39;49mraw_decode(s, idx\u001b[39m=\u001b[39;49m_w(s, \u001b[39m0\u001b[39;49m)\u001b[39m.\u001b[39;49mend())\n\u001b[1;32m    338\u001b[0m end \u001b[39m=\u001b[39m _w(s, end)\u001b[39m.\u001b[39mend()\n",
      "File \u001b[0;32m/usr/lib/python3.10/json/decoder.py:355\u001b[0m, in \u001b[0;36mJSONDecoder.raw_decode\u001b[0;34m(self, s, idx)\u001b[0m\n\u001b[1;32m    354\u001b[0m \u001b[39mexcept\u001b[39;00m \u001b[39mStopIteration\u001b[39;00m \u001b[39mas\u001b[39;00m err:\n\u001b[0;32m--> 355\u001b[0m     \u001b[39mraise\u001b[39;00m JSONDecodeError(\u001b[39m\"\u001b[39m\u001b[39mExpecting value\u001b[39m\u001b[39m\"\u001b[39m, s, err\u001b[39m.\u001b[39mvalue) \u001b[39mfrom\u001b[39;00m \u001b[39mNone\u001b[39;00m\n\u001b[1;32m    356\u001b[0m \u001b[39mreturn\u001b[39;00m obj, end\n",
      "\u001b[0;31mJSONDecodeError\u001b[0m: Expecting value: line 1 column 1 (char 0)",
      "\nDuring handling of the above exception, another exception occurred:\n",
      "\u001b[0;31mJSONDecodeError\u001b[0m                           Traceback (most recent call last)",
      "Cell \u001b[0;32mIn[33], line 6\u001b[0m\n\u001b[1;32m      3\u001b[0m url \u001b[39m=\u001b[39m \u001b[39m\"\u001b[39m\u001b[39mhttps://www.cmegroup.com/CmeWS/mvc/Quotes/FutureOptionsProductDetails/116/G3\u001b[39m\u001b[39m\"\u001b[39m\n\u001b[1;32m      5\u001b[0m response \u001b[39m=\u001b[39m requests\u001b[39m.\u001b[39mget(url)\n\u001b[0;32m----> 6\u001b[0m data \u001b[39m=\u001b[39m response\u001b[39m.\u001b[39;49mjson()\n\u001b[1;32m      7\u001b[0m \u001b[39mprint\u001b[39m(data)\n\u001b[1;32m      9\u001b[0m option_chain \u001b[39m=\u001b[39m data[\u001b[39m\"\u001b[39m\u001b[39moptionMonthGroups\u001b[39m\u001b[39m\"\u001b[39m]\n",
      "File \u001b[0;32m~/.local/lib/python3.10/site-packages/requests/models.py:975\u001b[0m, in \u001b[0;36mResponse.json\u001b[0;34m(self, **kwargs)\u001b[0m\n\u001b[1;32m    971\u001b[0m     \u001b[39mreturn\u001b[39;00m complexjson\u001b[39m.\u001b[39mloads(\u001b[39mself\u001b[39m\u001b[39m.\u001b[39mtext, \u001b[39m*\u001b[39m\u001b[39m*\u001b[39mkwargs)\n\u001b[1;32m    972\u001b[0m \u001b[39mexcept\u001b[39;00m JSONDecodeError \u001b[39mas\u001b[39;00m e:\n\u001b[1;32m    973\u001b[0m     \u001b[39m# Catch JSON-related errors and raise as requests.JSONDecodeError\u001b[39;00m\n\u001b[1;32m    974\u001b[0m     \u001b[39m# This aliases json.JSONDecodeError and simplejson.JSONDecodeError\u001b[39;00m\n\u001b[0;32m--> 975\u001b[0m     \u001b[39mraise\u001b[39;00m RequestsJSONDecodeError(e\u001b[39m.\u001b[39mmsg, e\u001b[39m.\u001b[39mdoc, e\u001b[39m.\u001b[39mpos)\n",
      "\u001b[0;31mJSONDecodeError\u001b[0m: Expecting value: line 1 column 1 (char 0)"
     ]
    }
   ],
   "source": [
    "import requests\n",
    "\n",
    "url = \"https://www.cmegroup.com/CmeWS/mvc/Quotes/FutureOptionsProductDetails/116/G3\"\n",
    "\n",
    "response = requests.get(url)\n",
    "data = response.json()\n",
    "print(data)\n",
    "\n",
    "option_chain = data[\"optionMonthGroups\"]\n",
    "\n",
    "for option_month_group in option_chain:\n",
    "    option_month = option_month_group[\"optionMonth\"]\n",
    "    call_options = option_month_group[\"calls\"]\n",
    "    put_options = option_month_group[\"puts\"]\n",
    "    \n",
    "    print(\"Option Month:\", option_month)\n",
    "    print(\"Call Options:\")\n",
    "    for call_option in call_options:\n",
    "        print(call_option)\n",
    "    \n",
    "    print(\"Put Options:\")\n",
    "    for put_option in put_options:\n",
    "        print(put_option)\n",
    "    \n",
    "    print(\"--------------------\")"
   ]
  },
  {
   "cell_type": "code",
   "execution_count": 34,
   "metadata": {},
   "outputs": [
    {
     "ename": "JSONDecodeError",
     "evalue": "Expecting value: line 1 column 1 (char 0)",
     "output_type": "error",
     "traceback": [
      "\u001b[0;31m---------------------------------------------------------------------------\u001b[0m",
      "\u001b[0;31mJSONDecodeError\u001b[0m                           Traceback (most recent call last)",
      "File \u001b[0;32m~/.local/lib/python3.10/site-packages/requests/models.py:971\u001b[0m, in \u001b[0;36mResponse.json\u001b[0;34m(self, **kwargs)\u001b[0m\n\u001b[1;32m    970\u001b[0m \u001b[39mtry\u001b[39;00m:\n\u001b[0;32m--> 971\u001b[0m     \u001b[39mreturn\u001b[39;00m complexjson\u001b[39m.\u001b[39;49mloads(\u001b[39mself\u001b[39;49m\u001b[39m.\u001b[39;49mtext, \u001b[39m*\u001b[39;49m\u001b[39m*\u001b[39;49mkwargs)\n\u001b[1;32m    972\u001b[0m \u001b[39mexcept\u001b[39;00m JSONDecodeError \u001b[39mas\u001b[39;00m e:\n\u001b[1;32m    973\u001b[0m     \u001b[39m# Catch JSON-related errors and raise as requests.JSONDecodeError\u001b[39;00m\n\u001b[1;32m    974\u001b[0m     \u001b[39m# This aliases json.JSONDecodeError and simplejson.JSONDecodeError\u001b[39;00m\n",
      "File \u001b[0;32m/usr/lib/python3.10/json/__init__.py:346\u001b[0m, in \u001b[0;36mloads\u001b[0;34m(s, cls, object_hook, parse_float, parse_int, parse_constant, object_pairs_hook, **kw)\u001b[0m\n\u001b[1;32m    343\u001b[0m \u001b[39mif\u001b[39;00m (\u001b[39mcls\u001b[39m \u001b[39mis\u001b[39;00m \u001b[39mNone\u001b[39;00m \u001b[39mand\u001b[39;00m object_hook \u001b[39mis\u001b[39;00m \u001b[39mNone\u001b[39;00m \u001b[39mand\u001b[39;00m\n\u001b[1;32m    344\u001b[0m         parse_int \u001b[39mis\u001b[39;00m \u001b[39mNone\u001b[39;00m \u001b[39mand\u001b[39;00m parse_float \u001b[39mis\u001b[39;00m \u001b[39mNone\u001b[39;00m \u001b[39mand\u001b[39;00m\n\u001b[1;32m    345\u001b[0m         parse_constant \u001b[39mis\u001b[39;00m \u001b[39mNone\u001b[39;00m \u001b[39mand\u001b[39;00m object_pairs_hook \u001b[39mis\u001b[39;00m \u001b[39mNone\u001b[39;00m \u001b[39mand\u001b[39;00m \u001b[39mnot\u001b[39;00m kw):\n\u001b[0;32m--> 346\u001b[0m     \u001b[39mreturn\u001b[39;00m _default_decoder\u001b[39m.\u001b[39;49mdecode(s)\n\u001b[1;32m    347\u001b[0m \u001b[39mif\u001b[39;00m \u001b[39mcls\u001b[39m \u001b[39mis\u001b[39;00m \u001b[39mNone\u001b[39;00m:\n",
      "File \u001b[0;32m/usr/lib/python3.10/json/decoder.py:337\u001b[0m, in \u001b[0;36mJSONDecoder.decode\u001b[0;34m(self, s, _w)\u001b[0m\n\u001b[1;32m    333\u001b[0m \u001b[39m\u001b[39m\u001b[39m\"\"\"Return the Python representation of ``s`` (a ``str`` instance\u001b[39;00m\n\u001b[1;32m    334\u001b[0m \u001b[39mcontaining a JSON document).\u001b[39;00m\n\u001b[1;32m    335\u001b[0m \n\u001b[1;32m    336\u001b[0m \u001b[39m\"\"\"\u001b[39;00m\n\u001b[0;32m--> 337\u001b[0m obj, end \u001b[39m=\u001b[39m \u001b[39mself\u001b[39;49m\u001b[39m.\u001b[39;49mraw_decode(s, idx\u001b[39m=\u001b[39;49m_w(s, \u001b[39m0\u001b[39;49m)\u001b[39m.\u001b[39;49mend())\n\u001b[1;32m    338\u001b[0m end \u001b[39m=\u001b[39m _w(s, end)\u001b[39m.\u001b[39mend()\n",
      "File \u001b[0;32m/usr/lib/python3.10/json/decoder.py:355\u001b[0m, in \u001b[0;36mJSONDecoder.raw_decode\u001b[0;34m(self, s, idx)\u001b[0m\n\u001b[1;32m    354\u001b[0m \u001b[39mexcept\u001b[39;00m \u001b[39mStopIteration\u001b[39;00m \u001b[39mas\u001b[39;00m err:\n\u001b[0;32m--> 355\u001b[0m     \u001b[39mraise\u001b[39;00m JSONDecodeError(\u001b[39m\"\u001b[39m\u001b[39mExpecting value\u001b[39m\u001b[39m\"\u001b[39m, s, err\u001b[39m.\u001b[39mvalue) \u001b[39mfrom\u001b[39;00m \u001b[39mNone\u001b[39;00m\n\u001b[1;32m    356\u001b[0m \u001b[39mreturn\u001b[39;00m obj, end\n",
      "\u001b[0;31mJSONDecodeError\u001b[0m: Expecting value: line 1 column 1 (char 0)",
      "\nDuring handling of the above exception, another exception occurred:\n",
      "\u001b[0;31mJSONDecodeError\u001b[0m                           Traceback (most recent call last)",
      "Cell \u001b[0;32mIn[34], line 6\u001b[0m\n\u001b[1;32m      3\u001b[0m url \u001b[39m=\u001b[39m \u001b[39m\"\u001b[39m\u001b[39mhttps://www.barchart.com/futures/quotes/ZCN23/options\u001b[39m\u001b[39m\"\u001b[39m\n\u001b[1;32m      5\u001b[0m response \u001b[39m=\u001b[39m requests\u001b[39m.\u001b[39mget(url)\n\u001b[0;32m----> 6\u001b[0m data \u001b[39m=\u001b[39m response\u001b[39m.\u001b[39;49mjson()\n\u001b[1;32m      8\u001b[0m option_chain \u001b[39m=\u001b[39m data[\u001b[39m\"\u001b[39m\u001b[39moptions\u001b[39m\u001b[39m\"\u001b[39m]\n\u001b[1;32m     10\u001b[0m \u001b[39mfor\u001b[39;00m option \u001b[39min\u001b[39;00m option_chain:\n",
      "File \u001b[0;32m~/.local/lib/python3.10/site-packages/requests/models.py:975\u001b[0m, in \u001b[0;36mResponse.json\u001b[0;34m(self, **kwargs)\u001b[0m\n\u001b[1;32m    971\u001b[0m     \u001b[39mreturn\u001b[39;00m complexjson\u001b[39m.\u001b[39mloads(\u001b[39mself\u001b[39m\u001b[39m.\u001b[39mtext, \u001b[39m*\u001b[39m\u001b[39m*\u001b[39mkwargs)\n\u001b[1;32m    972\u001b[0m \u001b[39mexcept\u001b[39;00m JSONDecodeError \u001b[39mas\u001b[39;00m e:\n\u001b[1;32m    973\u001b[0m     \u001b[39m# Catch JSON-related errors and raise as requests.JSONDecodeError\u001b[39;00m\n\u001b[1;32m    974\u001b[0m     \u001b[39m# This aliases json.JSONDecodeError and simplejson.JSONDecodeError\u001b[39;00m\n\u001b[0;32m--> 975\u001b[0m     \u001b[39mraise\u001b[39;00m RequestsJSONDecodeError(e\u001b[39m.\u001b[39mmsg, e\u001b[39m.\u001b[39mdoc, e\u001b[39m.\u001b[39mpos)\n",
      "\u001b[0;31mJSONDecodeError\u001b[0m: Expecting value: line 1 column 1 (char 0)"
     ]
    }
   ],
   "source": [
    "import requests\n",
    "\n",
    "url = \"https://www.barchart.com/futures/quotes/ZCN23/options\"\n",
    "\n",
    "response = requests.get(url)\n",
    "data = response.json()\n",
    "\n",
    "option_chain = data[\"options\"]\n",
    "\n",
    "for option in option_chain:\n",
    "    option_symbol = option[\"symbol\"]\n",
    "    option_name = option[\"name\"]\n",
    "    # Extract other desired option data fields as needed\n",
    "    \n",
    "    print(\"Option Symbol:\", option_symbol)\n",
    "    print(\"Option Name:\", option_name)\n",
    "    # Print other desired option data fields as needed\n",
    "    \n",
    "    print(\"--------------------\")"
   ]
  }
 ],
 "metadata": {
  "kernelspec": {
   "display_name": "Python 3",
   "language": "python",
   "name": "python3"
  },
  "language_info": {
   "codemirror_mode": {
    "name": "ipython",
    "version": 3
   },
   "file_extension": ".py",
   "mimetype": "text/x-python",
   "name": "python",
   "nbconvert_exporter": "python",
   "pygments_lexer": "ipython3",
   "version": "3.10.6"
  },
  "orig_nbformat": 4
 },
 "nbformat": 4,
 "nbformat_minor": 2
}
