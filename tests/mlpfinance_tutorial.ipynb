{
 "cells": [
  {
   "cell_type": "code",
   "execution_count": null,
   "metadata": {},
   "outputs": [],
   "source": [
    "! pip install yfinance"
   ]
  },
  {
   "cell_type": "code",
   "execution_count": null,
   "metadata": {},
   "outputs": [],
   "source": [
    "import mplfinance as mpf\n",
    "\n",
    "print(mpf.available_styles())"
   ]
  },
  {
   "cell_type": "code",
   "execution_count": null,
   "metadata": {},
   "outputs": [],
   "source": [
    "mpf.make_mpf_style('')"
   ]
  },
  {
   "cell_type": "code",
   "execution_count": null,
   "metadata": {},
   "outputs": [],
   "source": [
    "#iday = intraday.loc['2019-11-06 15:00':'2019-11-06 16:00',:]\n",
    "\n",
    "ticker = yf.Ticker(\"AAPL\")\n",
    "data = ticker.history(period=\"90d\")\n",
    "\n",
    "\n",
    "mpf.plot(data,type='candle', mav=(9,30),style ='yahoo', volume=True,show_nontrading=True,\n",
    "         hlines=dict(hlines=[150,160],colors=['g','r'],linestyle='-'))"
   ]
  }
 ],
 "metadata": {
  "language_info": {
   "name": "python"
  },
  "orig_nbformat": 4
 },
 "nbformat": 4,
 "nbformat_minor": 2
}
